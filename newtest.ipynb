{
 "cells": [
  {
   "cell_type": "code",
   "execution_count": null,
   "id": "f07f377e",
   "metadata": {},
   "outputs": [],
   "source": [
    "# The '!' allows us to run terminal commands directly from the notebook.\n",
    "!pip install ultralytics"
   ]
  },
  {
   "cell_type": "code",
   "execution_count": null,
   "id": "5be582c8",
   "metadata": {},
   "outputs": [],
   "source": [
    "import yaml\n",
    "import cv2\n",
    "import random\n",
    "import os\n",
    "import matplotlib.pyplot as plt\n",
    "\n",
    "# --- IMPORTANT: UPDATE THIS PATH ---\n",
    "# You must replace this path with the full path to your downloaded dataset's data.yaml file.\n",
    "yaml_file_path = # --- IMPORTANT: THIS IS THE CORRECT PATH FOR YOUR SETUP ---\n",
    "yaml_file_path = r'C:\\Users\\Sreeneel Chavidi\\OneDrive\\Desktop\\.vs code\\.vs code\\DNA-Proj\\Project_dna\\dataset-german\\data.yaml'\n",
    "\n",
    "# Load the data configuration file\n",
    "with open(yaml_file_path, 'r') as f:\n",
    "    data_yaml = yaml.safe_load(f)\n",
    "\n",
    "# Get paths and class names from the yaml file\n",
    "# Note: Roboflow datasets often use relative paths. We might need to adjust them.\n",
    "dataset_root = os.path.dirname(yaml_file_path)\n",
    "train_images_path = os.path.join(dataset_root, data_yaml['train'])\n",
    "class_names = data_yaml['names']\n",
    "\n",
    "print(f\"Dataset contains {len(class_names)} classes.\")\n",
    "print(\"Class Names:\", class_names)\n",
    "\n",
    "# --- Visualize a few random training images with their bounding boxes ---\n",
    "image_files = [f for f in os.listdir(train_images_path) if f.endswith('.jpg')]\n",
    "\n",
    "plt.figure(figsize=(15, 10))\n",
    "for i in range(4): # Show 4 random images\n",
    "    # Select a random image\n",
    "    random_image_name = random.choice(image_files)\n",
    "    image_path = os.path.join(train_images_path, random_image_name)\n",
    "    label_path = image_path.replace('.jpg', '.txt').replace('images', 'labels')\n",
    "    \n",
    "    # Read the image\n",
    "    image = cv2.imread(image_path)\n",
    "    image = cv2.cvtColor(image, cv2.COLOR_BGR2RGB) # Convert for matplotlib\n",
    "    h, w, _ = image.shape\n",
    "    \n",
    "    # Read the corresponding label file\n",
    "    if os.path.exists(label_path):\n",
    "        with open(label_path, 'r') as f:\n",
    "            for line in f.readlines():\n",
    "                class_id, x_center, y_center, width, height = map(float, line.split())\n",
    "                \n",
    "                # Convert YOLO format to OpenCV format\n",
    "                x1 = int((x_center - width/2) * w)\n",
    "                y1 = int((y_center - height/2) * h)\n",
    "                x2 = int((x_center + width/2) * w)\n",
    "                y2 = int((y_center + height/2) * h)\n",
    "                \n",
    "                # Draw the bounding box and label\n",
    "                cv2.rectangle(image, (x1, y1), (x2, y2), (0, 255, 0), 2)\n",
    "                cv2.putText(image, class_names[int(class_id)], (x1, y1 - 10), cv2.FONT_HERSHEY_SIMPLEX, 0.7, (255, 0, 0), 2)\n",
    "\n",
    "    ax = plt.subplot(2, 2, i + 1)\n",
    "    plt.imshow(image)\n",
    "    plt.title(random_image_name)\n",
    "    plt.axis('off')\n",
    "\n",
    "plt.tight_layout()\n",
    "plt.show()"
   ]
  },
  {
   "cell_type": "code",
   "execution_count": null,
   "id": "290f87ed",
   "metadata": {},
   "outputs": [],
   "source": [
    "from ultralytics import YOLO\n",
    "\n",
    "# Load a pre-trained YOLOv8n model\n",
    "model = YOLO('yolov8n.pt')\n",
    "\n",
    "# Train the model using the dataset from the .yaml file\n",
    "# The output will be saved to a new 'runs' directory\n",
    "results = model.train(data=yaml_file_path, epochs=25, imgsz=640)"
   ]
  },
  {
   "cell_type": "code",
   "execution_count": null,
   "id": "141fbbfd",
   "metadata": {},
   "outputs": [],
   "source": [
    "from IPython.display import Image\n",
    "\n",
    "# Display the results graph, which shows loss curves, mAP, and other metrics.\n",
    "# The path to results.png may vary depending on the run number (train, train2, etc.)\n",
    "Image(filename='runs/detect/train/results.png')"
   ]
  },
  {
   "cell_type": "code",
   "execution_count": null,
   "id": "2cc83ab4",
   "metadata": {},
   "outputs": [],
   "source": [
    "from ultralytics import YOLO\n",
    "import random\n",
    "import os\n",
    "from IPython.display import display\n",
    "\n",
    "# Load our custom-trained model\n",
    "model = YOLO('runs/detect/train/weights/best.pt')\n",
    "\n",
    "# Get a list of validation images\n",
    "val_images_path = os.path.join(dataset_root, data_yaml['val'])\n",
    "val_image_files = [os.path.join(val_images_path, f) for f in os.listdir(val_images_path) if f.endswith('.jpg')]\n",
    "\n",
    "# Run inference on a few random validation images\n",
    "results = model(random.sample(val_image_files, 2)) # Predict on 2 random images\n",
    "\n",
    "# Display the results\n",
    "for r in results:\n",
    "    # r.plot() returns a BGR numpy array of predictions\n",
    "    # We can use IPython's Image to display it directly after converting BGR to RGB\n",
    "    display(Image(data=cv2.imencode('.png', r.plot()[..., ::-1])[1].tobytes()))"
   ]
  }
 ],
 "metadata": {
  "kernelspec": {
   "display_name": "Python 3",
   "language": "python",
   "name": "python3"
  },
  "language_info": {
   "name": "python",
   "version": "3.9.13"
  }
 },
 "nbformat": 4,
 "nbformat_minor": 5
}
